{
 "cells": [
  {
   "cell_type": "code",
   "execution_count": 13,
   "metadata": {},
   "outputs": [],
   "source": [
    "import math\n",
    "import numpy as np\n",
    "from scipy.optimize import fsolve"
   ]
  },
  {
   "cell_type": "code",
   "execution_count": 32,
   "metadata": {},
   "outputs": [],
   "source": [
    "def bond_calculator():\n",
    "    print(\"Enter your known values and leave the field you would like to solve for blank\")\n",
    "    print(\"If the bond is redeemed at par, enter 1 in the Redemption Value field\\n\")\n",
    "    Bond_Price = input(\"Enter the Purchase Price of the bond: \")\n",
    "    Face_Value = input(\"Enter the Face Value of the bond: \")\n",
    "    Redemption_Factor = input(\"Enter the Redemption Value of the bond as a factor of the face value (eg. 0.94, 1, 1.06): \")\n",
    "    Coupon_Rate = input(\"Enter the Coupon Rate per Interest Period as a decimal: \")\n",
    "    Yield_Rate = input(\"Enter the Yield Rate per Interest Period as a decimal: \")\n",
    "    Periods = input(\"Enter the number of Compounding Periods: \")\n",
    "    \n",
    "    input_list = [Bond_Price, Face_Value, Redemption_Factor, Coupon_Rate, Yield_Rate, Periods]\n",
    "    for i in range(len(input_list)):\n",
    "        input_list[i] = input_list[i].strip()==\"\"\n",
    "        \n",
    "    if sum(input_list) >= 2:\n",
    "        print(\"Two or more fields were left blank. Please leave a single field that you would like to solve for blank.\")\n",
    "        return bond_calculator()\n",
    "    \n",
    "    elif sum(input_list) == 0:\n",
    "        print(\"Zero fields were left blank. Please leave a single field that you would like to solve for blank.\")\n",
    "        return bond_calculator()\n",
    "    \n",
    "    elif Bond_Price.strip() == \"\":\n",
    "        Face_Value = float(Face_Value)\n",
    "        Redemption_Factor = float(Redemption_Factor)\n",
    "        Coupon_Rate = float(Coupon_Rate)\n",
    "        Yield_Rate = float(Yield_Rate)\n",
    "        Periods = float(Periods)\n",
    "        \n",
    "        price = (Face_Value*Coupon_Rate*((1 - (1+Yield_Rate)**(-Periods)) / Yield_Rate) + \n",
    "                 Face_Value*Redemption_Factor*(1+Yield_Rate)**(-Periods))\n",
    "        #print(\"The Future Value is\", price)\n",
    "        return price\n",
    "    \n",
    "    elif Face_Value.strip() == \"\":\n",
    "        Bond_Price = float(Bond_Price)\n",
    "        Redemption_Factor = float(Redemption_Factor)\n",
    "        Coupon_Rate = float(Coupon_Rate)\n",
    "        Yield_Rate = float(Yield_Rate)\n",
    "        Periods = float(Periods)\n",
    "        \n",
    "        face = Bond_Price / (Redemption_Factor*(1+Yield_Rate)**(-Periods) + \n",
    "                             Coupon_Rate/Yield_Rate*(1-(1+Yield_Rate)**(-Periods)))\n",
    "        #print(\"The Face Value is\", face)\n",
    "        return face\n",
    "    \n",
    "    elif Redemption_Factor.strip() == \"\":\n",
    "        Bond_Price = float(Bond_Price)\n",
    "        Face_Value = float(Face_Value)\n",
    "        Coupon_Rate = float(Coupon_Rate)\n",
    "        Yield_Rate = float(Yield_Rate)\n",
    "        Periods = float(Periods)\n",
    "        \n",
    "        factor = ((1+Yield_Rate)**Periods)*(Bond_Price/Face_Value - \n",
    "                                            Coupon_Rate/Yield_Rate*(1-(1+Yield_Rate)**(-Periods)))\n",
    "        #print(\"The Redemption Factor is\", face)\n",
    "        return factor\n",
    "    \n",
    "    elif Coupon_Rate.strip() == \"\":\n",
    "        Bond_Price = float(Bond_Price)\n",
    "        Face_Value = float(Face_Value)\n",
    "        Redemption_Factor = float(Redemption_Factor)\n",
    "        Yield_Rate = float(Yield_Rate)\n",
    "        Periods = float(Periods)\n",
    "        \n",
    "        coupon_rate = (Yield_Rate / (1-(1+Yield_Rate)**(-Periods)))*(Bond_Price/Face_Value - \n",
    "                                                                     Redemption_Factor*(1+Yield_Rate)**(-Periods))\n",
    "        #print(\"The Coupon Rate is\", coupon_rate)\n",
    "        return coupon_rate\n",
    "    \n",
    "    elif Periods.strip() == \"\":\n",
    "        Bond_Price = float(Bond_Price)\n",
    "        Face_Value = float(Face_Value)\n",
    "        Redemption_Factor = float(Redemption_Factor)\n",
    "        Yield_Rate = float(Yield_Rate)\n",
    "        Coupon_Rate = float(Coupon_Rate)\n",
    "        \n",
    "        def g(per):\n",
    "            return ((Face_Value*Coupon_Rate*((1 - (1+Yield_Rate)**(-per)) / Yield_Rate) + \n",
    "                     Face_Value*Redemption_Factor*(1+Yield_Rate)**(-per)) - Bond_Price)\n",
    "        per = fsolve(g, 1)\n",
    "        #print(\"The number of compounding periods is\", per[0])\n",
    "        return per[0]\n",
    "            \n",
    "    elif Yield_Rate.strip() == \"\":\n",
    "        Bond_Price = float(Bond_Price)\n",
    "        Face_Value = float(Face_Value)\n",
    "        Redemption_Factor = float(Redemption_Factor)\n",
    "        Coupon_Rate = float(Coupon_Rate)\n",
    "        Periods = float(Periods)\n",
    "        \n",
    "        def f(i):\n",
    "            return ((Face_Value*Coupon_Rate*((1 - (1+i)**(-Periods)) / i) + \n",
    "                     Face_Value*Redemption_Factor*(1+i)**(-Periods)) - Bond_Price)\n",
    "        yield_per_period = fsolve(f, .025)\n",
    "        return yield_per_period[0]\n",
    "        \n",
    "        ##By Method of Averages followed by Linear Interpolation Method\n",
    "        #avg_int_pmt = (Periods*Face_Value*Coupon_Rate + Face_Value*Redemption_Factor - Bond_Price) / Periods\n",
    "        #avg_amt_invested = (Face_Value*Redemption_Factor + Bond_Price) / 2\n",
    "        #approx_yield = avg_int_pmt / avg_amt_invested\n",
    "        \n",
    "        #lower_lim = math.floor(approx_yield*100)/100\n",
    "        #upper_lim = math.ceil(approx_yield*100)/100\n",
    "        \n",
    "        #lower_lim_price = (Face_Value*Coupon_Rate*((1 - (1+lower_lim)**(-Periods)) / lower_lim) + \n",
    "                           #Face_Value*Redemption_Factor*(1+lower_lim)**(-Periods))\n",
    "        \n",
    "        #upper_lim_price = (Face_Value*Coupon_Rate*((1 - (1+upper_lim)**(-Periods)) / upper_lim) + \n",
    "                           #Face_Value*Redemption_Factor*(1+upper_lim)**(-Periods))\n",
    "        \n",
    "        #price_spread = lower_lim_price - Bond_Price\n",
    "        #lower_upper_price_spread = lower_lim_price - upper_lim_price\n",
    "        \n",
    "        #yield_adjustment = price_spread/lower_upper_price_spread/100\n",
    "        #yield_per_period = lower_lim + yield_adjustment\n",
    "        \n",
    "        ##print(\"The number of approximate yield rate per period as a decimal is\", yield_per_period)\n",
    "        #print(approx_yield)\n",
    "        #return yield_per_period"
   ]
  },
  {
   "cell_type": "markdown",
   "metadata": {},
   "source": [
    "## Need to fix part compounding period formula"
   ]
  },
  {
   "cell_type": "code",
   "execution_count": 33,
   "metadata": {
    "scrolled": false
   },
   "outputs": [
    {
     "name": "stdout",
     "output_type": "stream",
     "text": [
      "Enter your known values and leave the field you would like to solve for blank\n",
      "If the bond is redeemed at par, enter 1 in the Redemption Value field\n",
      "\n",
      "Enter the Purchase Price of the bond: 1040\n",
      "Enter the Face Value of the bond: 1000\n",
      "Enter the Redemption Value of the bond as a factor of the face value (eg. 0.94, 1, 1.06): .975\n",
      "Enter the Coupon Rate per Interest Period as a decimal: .055\n",
      "Enter the Yield Rate per Interest Period as a decimal: 0.04625122\n",
      "Enter the number of Compounding Periods: \n"
     ]
    },
    {
     "data": {
      "text/plain": [
       "8.000004565014148"
      ]
     },
     "execution_count": 33,
     "metadata": {},
     "output_type": "execute_result"
    }
   ],
   "source": [
    "bond_calculator()"
   ]
  },
  {
   "cell_type": "code",
   "execution_count": 17,
   "metadata": {
    "scrolled": true
   },
   "outputs": [
    {
     "data": {
      "text/plain": [
       "0.04625122"
      ]
     },
     "execution_count": 17,
     "metadata": {},
     "output_type": "execute_result"
    }
   ],
   "source": [
    "per = (math.log(Yield_Rate*(Bond_Price/Face_Value - Redemption_Factor)/\n",
    "                (Coupon_Rate - Redemption_Factor*Yield_Rate) - 1)) / (math.log(1 + Yield_Rate))\n"
   ]
  },
  {
   "cell_type": "code",
   "execution_count": 31,
   "metadata": {},
   "outputs": [
    {
     "ename": "ValueError",
     "evalue": "math domain error",
     "output_type": "error",
     "traceback": [
      "\u001b[1;31m---------------------------------------------------------------------------\u001b[0m",
      "\u001b[1;31mValueError\u001b[0m                                Traceback (most recent call last)",
      "\u001b[1;32m<ipython-input-31-55aad1492e6c>\u001b[0m in \u001b[0;36m<module>\u001b[1;34m\u001b[0m\n\u001b[1;32m----> 1\u001b[1;33m \u001b[0mmath\u001b[0m\u001b[1;33m.\u001b[0m\u001b[0mlog\u001b[0m\u001b[1;33m(\u001b[0m\u001b[1;36m0.04625122\u001b[0m\u001b[1;33m*\u001b[0m\u001b[1;33m(\u001b[0m\u001b[1;36m1040\u001b[0m\u001b[1;33m/\u001b[0m\u001b[1;36m1000\u001b[0m \u001b[1;33m-\u001b[0m \u001b[1;36m.975\u001b[0m\u001b[1;33m)\u001b[0m\u001b[1;33m/\u001b[0m\u001b[1;33m(\u001b[0m\u001b[1;36m0.05\u001b[0m \u001b[1;33m-\u001b[0m \u001b[1;36m.975\u001b[0m\u001b[1;33m*\u001b[0m\u001b[1;36m0.04625122\u001b[0m\u001b[1;33m)\u001b[0m \u001b[1;33m-\u001b[0m \u001b[1;36m1\u001b[0m\u001b[1;33m)\u001b[0m\u001b[1;33m\u001b[0m\u001b[1;33m\u001b[0m\u001b[0m\n\u001b[0m",
      "\u001b[1;31mValueError\u001b[0m: math domain error"
     ]
    }
   ],
   "source": [
    "math.log(0.04625122*(1040/1000 - .975)/(0.05 - .975*0.04625122) - 1)"
   ]
  }
 ],
 "metadata": {
  "kernelspec": {
   "display_name": "Python 3",
   "language": "python",
   "name": "python3"
  },
  "language_info": {
   "codemirror_mode": {
    "name": "ipython",
    "version": 3
   },
   "file_extension": ".py",
   "mimetype": "text/x-python",
   "name": "python",
   "nbconvert_exporter": "python",
   "pygments_lexer": "ipython3",
   "version": "3.7.6"
  }
 },
 "nbformat": 4,
 "nbformat_minor": 4
}
