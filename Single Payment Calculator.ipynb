{
 "cells": [
  {
   "cell_type": "code",
   "execution_count": 1,
   "metadata": {},
   "outputs": [],
   "source": [
    "import math"
   ]
  },
  {
   "cell_type": "code",
   "execution_count": 2,
   "metadata": {},
   "outputs": [],
   "source": [
    "def single_payment_calulator():\n",
    "    print(\"Enter your known values and leave the field you would like to solve for blank\\n\")\n",
    "    FV = input(\"Enter your Future Value: \")\n",
    "    PV = input(\"Enter your Present Value: \")\n",
    "    num_of_periods = input(\"Enter the Number of Compounding Periods: \")\n",
    "    interest_rate = input(\"Enter the Interest Rate per Compounding Period as a decimal: \")\n",
    "    \n",
    "    input_list = [FV, PV, num_of_periods, interest_rate]\n",
    "    for i in range(len(input_list)):\n",
    "        input_list[i] = input_list[i].strip()==\"\"\n",
    "   \n",
    "    if sum(input_list) >= 2:\n",
    "        print(\"Two or more fields were left blank. Please leave a single field that you would like to solve for blank.\")\n",
    "        return single_payment_calulator()\n",
    "    \n",
    "    elif sum(input_list) == 0:\n",
    "        print(\"Zero fields were left blank. Please leave a single field that you would like to solve for blank.\")\n",
    "        return single_payment_calulator()\n",
    "    \n",
    "    elif FV.strip() == \"\":\n",
    "        PV = float(PV)\n",
    "        interest_rate = float(interest_rate)\n",
    "        num_of_periods = float(num_of_periods)\n",
    "        future_val = PV*(1 + interest_rate)**num_of_periods\n",
    "        #print(\"The Future Value is\", future_val)\n",
    "        return future_val\n",
    "    \n",
    "    elif PV.strip() == \"\":\n",
    "        FV = float(FV)\n",
    "        interest_rate = float(interest_rate)\n",
    "        num_of_periods = float(num_of_periods)\n",
    "        present_val = FV/(1 + interest_rate)**num_of_periods\n",
    "        #print(\"The Present Value is\", present_val)\n",
    "        return present_val\n",
    "    \n",
    "    elif num_of_periods.strip() == \"\":\n",
    "        FV = float(FV)\n",
    "        PV = float(PV)\n",
    "        interest_rate = float(interest_rate)\n",
    "        periods = math.log(FV/PV) / math.log(1+interest_rate)\n",
    "        #print(\"The Number of Compounding Periods is\", periods)\n",
    "        return periods\n",
    "    \n",
    "    elif interest_rate.strip() == \"\":\n",
    "        FV = float(FV)\n",
    "        PV = float(PV)\n",
    "        num_of_periods = float(num_of_periods)\n",
    "        rate = (FV/PV)**(1/num_of_periods) - 1\n",
    "        #print(\"The Interest Rate per Compounding Periods is\", rate)\n",
    "        return rate"
   ]
  },
  {
   "cell_type": "code",
   "execution_count": 3,
   "metadata": {
    "scrolled": true
   },
   "outputs": [
    {
     "name": "stdout",
     "output_type": "stream",
     "text": [
      "Enter your known values and leave the field you would like to solve for blank\n",
      "\n",
      "Enter your Future Value: \n",
      "Enter your Present Value: 1000\n",
      "Enter the Number of Compounding Periods: 60\n",
      "Enter the Interest Rate per Compounding Period as a decimal: 0.02\n"
     ]
    },
    {
     "data": {
      "text/plain": [
       "3281.0307883654145"
      ]
     },
     "execution_count": 3,
     "metadata": {},
     "output_type": "execute_result"
    }
   ],
   "source": [
    "single_payment_calulator()"
   ]
  }
 ],
 "metadata": {
  "kernelspec": {
   "display_name": "Python 3",
   "language": "python",
   "name": "python3"
  },
  "language_info": {
   "codemirror_mode": {
    "name": "ipython",
    "version": 3
   },
   "file_extension": ".py",
   "mimetype": "text/x-python",
   "name": "python",
   "nbconvert_exporter": "python",
   "pygments_lexer": "ipython3",
   "version": "3.7.6"
  }
 },
 "nbformat": 4,
 "nbformat_minor": 4
}
